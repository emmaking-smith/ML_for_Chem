{
 "cells": [
  {
   "cell_type": "code",
   "execution_count": 1,
   "id": "0baf1e95",
   "metadata": {},
   "outputs": [],
   "source": [
    "import pandas as pd\n",
    "import numpy as np\n",
    "from sklearn.gaussian_process import GaussianProcessRegressor\n",
    "from sklearn.gaussian_process.kernels import Matern, RBF\n",
    "from sklearn.preprocessing import StandardScaler\n",
    "from sklearn.metrics import r2_score, mean_absolute_error\n",
    "from sklearn.model_selection import train_test_split\n",
    "import matplotlib.pyplot as plt"
   ]
  },
  {
   "cell_type": "code",
   "execution_count": 2,
   "id": "47fbdd83",
   "metadata": {},
   "outputs": [],
   "source": [
    "def root_mean_squared_error(true, pred):\n",
    "    mean_squared_error = np.mean((true - pred)**2)\n",
    "    return (mean_squared_error)**(1/2)\n",
    "\n",
    "def scale_stds(std, df):\n",
    "    scaled_std = std * np.std(np.array(df['yield'])) + np.mean(np.array(df['yield']))\n",
    "    return scaled_std\n",
    "\n",
    "def plot_gp(test_labels, preds, scaled_std):\n",
    "    plt.errorbar(test_labels, preds, yerr=scaled_std, fmt='.')\n",
    "    plt.plot([0,100],[0,100], color='gray', label='Perfect')\n",
    "    plt.title('Gaussian Process Regression of Yields')\n",
    "    plt.xlabel('True Yields')\n",
    "    plt.ylabel('Predicted Yields')\n",
    "    plt.legend()\n",
    "    return plt.show()"
   ]
  },
  {
   "cell_type": "code",
   "execution_count": 4,
   "id": "1f209fcb",
   "metadata": {},
   "outputs": [
    {
     "data": {
      "text/html": [
       "<div>\n",
       "<style scoped>\n",
       "    .dataframe tbody tr th:only-of-type {\n",
       "        vertical-align: middle;\n",
       "    }\n",
       "\n",
       "    .dataframe tbody tr th {\n",
       "        vertical-align: top;\n",
       "    }\n",
       "\n",
       "    .dataframe thead th {\n",
       "        text-align: right;\n",
       "    }\n",
       "</style>\n",
       "<table border=\"1\" class=\"dataframe\">\n",
       "  <thead>\n",
       "    <tr style=\"text-align: right;\">\n",
       "      <th></th>\n",
       "      <th>plate</th>\n",
       "      <th>row</th>\n",
       "      <th>col</th>\n",
       "      <th>base</th>\n",
       "      <th>base_cas_number</th>\n",
       "      <th>base_smiles</th>\n",
       "      <th>ligand</th>\n",
       "      <th>ligand_cas_number</th>\n",
       "      <th>ligand_smiles</th>\n",
       "      <th>aryl_halide_number</th>\n",
       "      <th>aryl_halide</th>\n",
       "      <th>aryl_halide_smiles</th>\n",
       "      <th>additive_number</th>\n",
       "      <th>additive</th>\n",
       "      <th>additive_smiles</th>\n",
       "      <th>product_smiles</th>\n",
       "      <th>yield</th>\n",
       "    </tr>\n",
       "  </thead>\n",
       "  <tbody>\n",
       "    <tr>\n",
       "      <th>0</th>\n",
       "      <td>1</td>\n",
       "      <td>1</td>\n",
       "      <td>1</td>\n",
       "      <td>P2Et</td>\n",
       "      <td>165535-45-5</td>\n",
       "      <td>CN(C)P(N(C)C)(N(C)C)=NP(N(C)C)(N(C)C)=NCC</td>\n",
       "      <td>XPhos</td>\n",
       "      <td>564483-18-7</td>\n",
       "      <td>CC(C)C1=CC(C(C)C)=CC(C(C)C)=C1C2=C(P(C3CCCCC3)...</td>\n",
       "      <td>1.0</td>\n",
       "      <td>1-chloro-4-(trifluoromethyl)benzene</td>\n",
       "      <td>FC(F)(F)c1ccc(Cl)cc1</td>\n",
       "      <td>NaN</td>\n",
       "      <td>NaN</td>\n",
       "      <td>NaN</td>\n",
       "      <td>Cc1ccc(Nc2ccc(C(F)(F)F)cc2)cc1</td>\n",
       "      <td>26.888615</td>\n",
       "    </tr>\n",
       "    <tr>\n",
       "      <th>1</th>\n",
       "      <td>1</td>\n",
       "      <td>1</td>\n",
       "      <td>2</td>\n",
       "      <td>P2Et</td>\n",
       "      <td>165535-45-5</td>\n",
       "      <td>CN(C)P(N(C)C)(N(C)C)=NP(N(C)C)(N(C)C)=NCC</td>\n",
       "      <td>XPhos</td>\n",
       "      <td>564483-18-7</td>\n",
       "      <td>CC(C)C1=CC(C(C)C)=CC(C(C)C)=C1C2=C(P(C3CCCCC3)...</td>\n",
       "      <td>2.0</td>\n",
       "      <td>1-bromo-4-(trifluoromethyl)benzene</td>\n",
       "      <td>FC(F)(F)c1ccc(Br)cc1</td>\n",
       "      <td>NaN</td>\n",
       "      <td>NaN</td>\n",
       "      <td>NaN</td>\n",
       "      <td>Cc1ccc(Nc2ccc(C(F)(F)F)cc2)cc1</td>\n",
       "      <td>24.063224</td>\n",
       "    </tr>\n",
       "    <tr>\n",
       "      <th>2</th>\n",
       "      <td>1</td>\n",
       "      <td>1</td>\n",
       "      <td>3</td>\n",
       "      <td>P2Et</td>\n",
       "      <td>165535-45-5</td>\n",
       "      <td>CN(C)P(N(C)C)(N(C)C)=NP(N(C)C)(N(C)C)=NCC</td>\n",
       "      <td>XPhos</td>\n",
       "      <td>564483-18-7</td>\n",
       "      <td>CC(C)C1=CC(C(C)C)=CC(C(C)C)=C1C2=C(P(C3CCCCC3)...</td>\n",
       "      <td>3.0</td>\n",
       "      <td>1-iodo-4-(trifluoromethyl)benzene</td>\n",
       "      <td>FC(F)(F)c1ccc(I)cc1</td>\n",
       "      <td>NaN</td>\n",
       "      <td>NaN</td>\n",
       "      <td>NaN</td>\n",
       "      <td>Cc1ccc(Nc2ccc(C(F)(F)F)cc2)cc1</td>\n",
       "      <td>47.515821</td>\n",
       "    </tr>\n",
       "    <tr>\n",
       "      <th>3</th>\n",
       "      <td>1</td>\n",
       "      <td>1</td>\n",
       "      <td>4</td>\n",
       "      <td>P2Et</td>\n",
       "      <td>165535-45-5</td>\n",
       "      <td>CN(C)P(N(C)C)(N(C)C)=NP(N(C)C)(N(C)C)=NCC</td>\n",
       "      <td>XPhos</td>\n",
       "      <td>564483-18-7</td>\n",
       "      <td>CC(C)C1=CC(C(C)C)=CC(C(C)C)=C1C2=C(P(C3CCCCC3)...</td>\n",
       "      <td>4.0</td>\n",
       "      <td>1-chloro-4-methoxybenzene</td>\n",
       "      <td>COc1ccc(Cl)cc1</td>\n",
       "      <td>NaN</td>\n",
       "      <td>NaN</td>\n",
       "      <td>NaN</td>\n",
       "      <td>COc1ccc(Nc2ccc(C)cc2)cc1</td>\n",
       "      <td>2.126831</td>\n",
       "    </tr>\n",
       "    <tr>\n",
       "      <th>4</th>\n",
       "      <td>1</td>\n",
       "      <td>1</td>\n",
       "      <td>5</td>\n",
       "      <td>P2Et</td>\n",
       "      <td>165535-45-5</td>\n",
       "      <td>CN(C)P(N(C)C)(N(C)C)=NP(N(C)C)(N(C)C)=NCC</td>\n",
       "      <td>XPhos</td>\n",
       "      <td>564483-18-7</td>\n",
       "      <td>CC(C)C1=CC(C(C)C)=CC(C(C)C)=C1C2=C(P(C3CCCCC3)...</td>\n",
       "      <td>5.0</td>\n",
       "      <td>1-bromo-4-methoxybenzene</td>\n",
       "      <td>COc1ccc(Br)cc1</td>\n",
       "      <td>NaN</td>\n",
       "      <td>NaN</td>\n",
       "      <td>NaN</td>\n",
       "      <td>COc1ccc(Nc2ccc(C)cc2)cc1</td>\n",
       "      <td>47.586354</td>\n",
       "    </tr>\n",
       "    <tr>\n",
       "      <th>...</th>\n",
       "      <td>...</td>\n",
       "      <td>...</td>\n",
       "      <td>...</td>\n",
       "      <td>...</td>\n",
       "      <td>...</td>\n",
       "      <td>...</td>\n",
       "      <td>...</td>\n",
       "      <td>...</td>\n",
       "      <td>...</td>\n",
       "      <td>...</td>\n",
       "      <td>...</td>\n",
       "      <td>...</td>\n",
       "      <td>...</td>\n",
       "      <td>...</td>\n",
       "      <td>...</td>\n",
       "      <td>...</td>\n",
       "      <td>...</td>\n",
       "    </tr>\n",
       "    <tr>\n",
       "      <th>4594</th>\n",
       "      <td>3</td>\n",
       "      <td>32</td>\n",
       "      <td>44</td>\n",
       "      <td>MTBD</td>\n",
       "      <td>84030-20-6</td>\n",
       "      <td>CN1CCCN2CCCN=C12</td>\n",
       "      <td>AdBrettPhos</td>\n",
       "      <td>1160861-59-5</td>\n",
       "      <td>CC(C1=C(C2=C(OC)C=CC(OC)=C2P(C34CC5CC(C4)CC(C5...</td>\n",
       "      <td>12.0</td>\n",
       "      <td>2-iodopyridine</td>\n",
       "      <td>Ic1ccccn1</td>\n",
       "      <td>22.0</td>\n",
       "      <td>methyl-5-(thiophen-2-yl)isoxazole-3-carboxylate</td>\n",
       "      <td>COC(=O)c1cc(on1)c2sccc2</td>\n",
       "      <td>Cc1ccc(Nc2ccccn2)cc1</td>\n",
       "      <td>86.233157</td>\n",
       "    </tr>\n",
       "    <tr>\n",
       "      <th>4595</th>\n",
       "      <td>3</td>\n",
       "      <td>32</td>\n",
       "      <td>45</td>\n",
       "      <td>MTBD</td>\n",
       "      <td>84030-20-6</td>\n",
       "      <td>CN1CCCN2CCCN=C12</td>\n",
       "      <td>AdBrettPhos</td>\n",
       "      <td>1160861-59-5</td>\n",
       "      <td>CC(C1=C(C2=C(OC)C=CC(OC)=C2P(C34CC5CC(C4)CC(C5...</td>\n",
       "      <td>13.0</td>\n",
       "      <td>3-chloropyridine</td>\n",
       "      <td>Clc1cccnc1</td>\n",
       "      <td>22.0</td>\n",
       "      <td>methyl-5-(thiophen-2-yl)isoxazole-3-carboxylate</td>\n",
       "      <td>COC(=O)c1cc(on1)c2sccc2</td>\n",
       "      <td>Cc1ccc(Nc2cccnc2)cc1</td>\n",
       "      <td>1.440081</td>\n",
       "    </tr>\n",
       "    <tr>\n",
       "      <th>4596</th>\n",
       "      <td>3</td>\n",
       "      <td>32</td>\n",
       "      <td>46</td>\n",
       "      <td>MTBD</td>\n",
       "      <td>84030-20-6</td>\n",
       "      <td>CN1CCCN2CCCN=C12</td>\n",
       "      <td>AdBrettPhos</td>\n",
       "      <td>1160861-59-5</td>\n",
       "      <td>CC(C1=C(C2=C(OC)C=CC(OC)=C2P(C34CC5CC(C4)CC(C5...</td>\n",
       "      <td>14.0</td>\n",
       "      <td>3-bromopyridine</td>\n",
       "      <td>Brc1cccnc1</td>\n",
       "      <td>22.0</td>\n",
       "      <td>methyl-5-(thiophen-2-yl)isoxazole-3-carboxylate</td>\n",
       "      <td>COC(=O)c1cc(on1)c2sccc2</td>\n",
       "      <td>Cc1ccc(Nc2cccnc2)cc1</td>\n",
       "      <td>43.538365</td>\n",
       "    </tr>\n",
       "    <tr>\n",
       "      <th>4597</th>\n",
       "      <td>3</td>\n",
       "      <td>32</td>\n",
       "      <td>47</td>\n",
       "      <td>MTBD</td>\n",
       "      <td>84030-20-6</td>\n",
       "      <td>CN1CCCN2CCCN=C12</td>\n",
       "      <td>AdBrettPhos</td>\n",
       "      <td>1160861-59-5</td>\n",
       "      <td>CC(C1=C(C2=C(OC)C=CC(OC)=C2P(C34CC5CC(C4)CC(C5...</td>\n",
       "      <td>15.0</td>\n",
       "      <td>3-iodopyridine</td>\n",
       "      <td>Ic1cccnc1</td>\n",
       "      <td>22.0</td>\n",
       "      <td>methyl-5-(thiophen-2-yl)isoxazole-3-carboxylate</td>\n",
       "      <td>COC(=O)c1cc(on1)c2sccc2</td>\n",
       "      <td>Cc1ccc(Nc2cccnc2)cc1</td>\n",
       "      <td>69.795902</td>\n",
       "    </tr>\n",
       "    <tr>\n",
       "      <th>4598</th>\n",
       "      <td>3</td>\n",
       "      <td>32</td>\n",
       "      <td>48</td>\n",
       "      <td>MTBD</td>\n",
       "      <td>84030-20-6</td>\n",
       "      <td>CN1CCCN2CCCN=C12</td>\n",
       "      <td>AdBrettPhos</td>\n",
       "      <td>1160861-59-5</td>\n",
       "      <td>CC(C1=C(C2=C(OC)C=CC(OC)=C2P(C34CC5CC(C4)CC(C5...</td>\n",
       "      <td>NaN</td>\n",
       "      <td>NaN</td>\n",
       "      <td>NaN</td>\n",
       "      <td>22.0</td>\n",
       "      <td>methyl-5-(thiophen-2-yl)isoxazole-3-carboxylate</td>\n",
       "      <td>COC(=O)c1cc(on1)c2sccc2</td>\n",
       "      <td>NaN</td>\n",
       "      <td>0.000000</td>\n",
       "    </tr>\n",
       "  </tbody>\n",
       "</table>\n",
       "<p>4599 rows × 17 columns</p>\n",
       "</div>"
      ],
      "text/plain": [
       "      plate  row  col  base base_cas_number  \\\n",
       "0         1    1    1  P2Et     165535-45-5   \n",
       "1         1    1    2  P2Et     165535-45-5   \n",
       "2         1    1    3  P2Et     165535-45-5   \n",
       "3         1    1    4  P2Et     165535-45-5   \n",
       "4         1    1    5  P2Et     165535-45-5   \n",
       "...     ...  ...  ...   ...             ...   \n",
       "4594      3   32   44  MTBD      84030-20-6   \n",
       "4595      3   32   45  MTBD      84030-20-6   \n",
       "4596      3   32   46  MTBD      84030-20-6   \n",
       "4597      3   32   47  MTBD      84030-20-6   \n",
       "4598      3   32   48  MTBD      84030-20-6   \n",
       "\n",
       "                                    base_smiles       ligand  \\\n",
       "0     CN(C)P(N(C)C)(N(C)C)=NP(N(C)C)(N(C)C)=NCC        XPhos   \n",
       "1     CN(C)P(N(C)C)(N(C)C)=NP(N(C)C)(N(C)C)=NCC        XPhos   \n",
       "2     CN(C)P(N(C)C)(N(C)C)=NP(N(C)C)(N(C)C)=NCC        XPhos   \n",
       "3     CN(C)P(N(C)C)(N(C)C)=NP(N(C)C)(N(C)C)=NCC        XPhos   \n",
       "4     CN(C)P(N(C)C)(N(C)C)=NP(N(C)C)(N(C)C)=NCC        XPhos   \n",
       "...                                         ...          ...   \n",
       "4594                           CN1CCCN2CCCN=C12  AdBrettPhos   \n",
       "4595                           CN1CCCN2CCCN=C12  AdBrettPhos   \n",
       "4596                           CN1CCCN2CCCN=C12  AdBrettPhos   \n",
       "4597                           CN1CCCN2CCCN=C12  AdBrettPhos   \n",
       "4598                           CN1CCCN2CCCN=C12  AdBrettPhos   \n",
       "\n",
       "     ligand_cas_number                                      ligand_smiles  \\\n",
       "0          564483-18-7  CC(C)C1=CC(C(C)C)=CC(C(C)C)=C1C2=C(P(C3CCCCC3)...   \n",
       "1          564483-18-7  CC(C)C1=CC(C(C)C)=CC(C(C)C)=C1C2=C(P(C3CCCCC3)...   \n",
       "2          564483-18-7  CC(C)C1=CC(C(C)C)=CC(C(C)C)=C1C2=C(P(C3CCCCC3)...   \n",
       "3          564483-18-7  CC(C)C1=CC(C(C)C)=CC(C(C)C)=C1C2=C(P(C3CCCCC3)...   \n",
       "4          564483-18-7  CC(C)C1=CC(C(C)C)=CC(C(C)C)=C1C2=C(P(C3CCCCC3)...   \n",
       "...                ...                                                ...   \n",
       "4594      1160861-59-5  CC(C1=C(C2=C(OC)C=CC(OC)=C2P(C34CC5CC(C4)CC(C5...   \n",
       "4595      1160861-59-5  CC(C1=C(C2=C(OC)C=CC(OC)=C2P(C34CC5CC(C4)CC(C5...   \n",
       "4596      1160861-59-5  CC(C1=C(C2=C(OC)C=CC(OC)=C2P(C34CC5CC(C4)CC(C5...   \n",
       "4597      1160861-59-5  CC(C1=C(C2=C(OC)C=CC(OC)=C2P(C34CC5CC(C4)CC(C5...   \n",
       "4598      1160861-59-5  CC(C1=C(C2=C(OC)C=CC(OC)=C2P(C34CC5CC(C4)CC(C5...   \n",
       "\n",
       "      aryl_halide_number                          aryl_halide  \\\n",
       "0                    1.0  1-chloro-4-(trifluoromethyl)benzene   \n",
       "1                    2.0   1-bromo-4-(trifluoromethyl)benzene   \n",
       "2                    3.0    1-iodo-4-(trifluoromethyl)benzene   \n",
       "3                    4.0            1-chloro-4-methoxybenzene   \n",
       "4                    5.0             1-bromo-4-methoxybenzene   \n",
       "...                  ...                                  ...   \n",
       "4594                12.0                       2-iodopyridine   \n",
       "4595                13.0                     3-chloropyridine   \n",
       "4596                14.0                      3-bromopyridine   \n",
       "4597                15.0                       3-iodopyridine   \n",
       "4598                 NaN                                  NaN   \n",
       "\n",
       "        aryl_halide_smiles  additive_number  \\\n",
       "0     FC(F)(F)c1ccc(Cl)cc1              NaN   \n",
       "1     FC(F)(F)c1ccc(Br)cc1              NaN   \n",
       "2      FC(F)(F)c1ccc(I)cc1              NaN   \n",
       "3           COc1ccc(Cl)cc1              NaN   \n",
       "4           COc1ccc(Br)cc1              NaN   \n",
       "...                    ...              ...   \n",
       "4594             Ic1ccccn1             22.0   \n",
       "4595            Clc1cccnc1             22.0   \n",
       "4596            Brc1cccnc1             22.0   \n",
       "4597             Ic1cccnc1             22.0   \n",
       "4598                   NaN             22.0   \n",
       "\n",
       "                                             additive  \\\n",
       "0                                                 NaN   \n",
       "1                                                 NaN   \n",
       "2                                                 NaN   \n",
       "3                                                 NaN   \n",
       "4                                                 NaN   \n",
       "...                                               ...   \n",
       "4594  methyl-5-(thiophen-2-yl)isoxazole-3-carboxylate   \n",
       "4595  methyl-5-(thiophen-2-yl)isoxazole-3-carboxylate   \n",
       "4596  methyl-5-(thiophen-2-yl)isoxazole-3-carboxylate   \n",
       "4597  methyl-5-(thiophen-2-yl)isoxazole-3-carboxylate   \n",
       "4598  methyl-5-(thiophen-2-yl)isoxazole-3-carboxylate   \n",
       "\n",
       "              additive_smiles                  product_smiles      yield  \n",
       "0                         NaN  Cc1ccc(Nc2ccc(C(F)(F)F)cc2)cc1  26.888615  \n",
       "1                         NaN  Cc1ccc(Nc2ccc(C(F)(F)F)cc2)cc1  24.063224  \n",
       "2                         NaN  Cc1ccc(Nc2ccc(C(F)(F)F)cc2)cc1  47.515821  \n",
       "3                         NaN        COc1ccc(Nc2ccc(C)cc2)cc1   2.126831  \n",
       "4                         NaN        COc1ccc(Nc2ccc(C)cc2)cc1  47.586354  \n",
       "...                       ...                             ...        ...  \n",
       "4594  COC(=O)c1cc(on1)c2sccc2            Cc1ccc(Nc2ccccn2)cc1  86.233157  \n",
       "4595  COC(=O)c1cc(on1)c2sccc2            Cc1ccc(Nc2cccnc2)cc1   1.440081  \n",
       "4596  COC(=O)c1cc(on1)c2sccc2            Cc1ccc(Nc2cccnc2)cc1  43.538365  \n",
       "4597  COC(=O)c1cc(on1)c2sccc2            Cc1ccc(Nc2cccnc2)cc1  69.795902  \n",
       "4598  COC(=O)c1cc(on1)c2sccc2                             NaN   0.000000  \n",
       "\n",
       "[4599 rows x 17 columns]"
      ]
     },
     "execution_count": 4,
     "metadata": {},
     "output_type": "execute_result"
    }
   ],
   "source": [
    "df = pd.read_csv('doyle.csv')\n",
    "df"
   ]
  },
  {
   "cell_type": "code",
   "execution_count": 5,
   "id": "979f6356",
   "metadata": {},
   "outputs": [],
   "source": [
    "rxn_fps = np.load('rxn_fps_inputs.npy')"
   ]
  },
  {
   "cell_type": "code",
   "execution_count": 6,
   "id": "ca6b8f05",
   "metadata": {},
   "outputs": [],
   "source": [
    "rxn_fps = StandardScaler().fit_transform(rxn_fps)"
   ]
  },
  {
   "cell_type": "code",
   "execution_count": 7,
   "id": "42066794",
   "metadata": {},
   "outputs": [],
   "source": [
    "labels = np.array(df['yield'])"
   ]
  },
  {
   "cell_type": "code",
   "execution_count": 8,
   "id": "02e5b0d5",
   "metadata": {},
   "outputs": [],
   "source": [
    "gp = GaussianProcessRegressor(kernel=Matern())"
   ]
  },
  {
   "cell_type": "code",
   "execution_count": 9,
   "id": "42b18645",
   "metadata": {},
   "outputs": [],
   "source": [
    "train_inputs, test_inputs, train_labels, test_labels = train_test_split(\n",
    "rxn_fps,\n",
    "labels,\n",
    "test_size=0.01,\n",
    "random_state=12)"
   ]
  },
  {
   "cell_type": "code",
   "execution_count": 10,
   "id": "a34645b1",
   "metadata": {},
   "outputs": [
    {
     "data": {
      "text/plain": [
       "GaussianProcessRegressor(kernel=Matern(length_scale=1, nu=1.5))"
      ]
     },
     "execution_count": 10,
     "metadata": {},
     "output_type": "execute_result"
    }
   ],
   "source": [
    "gp.fit(train_inputs, train_labels)"
   ]
  },
  {
   "cell_type": "code",
   "execution_count": 11,
   "id": "2a20e28a",
   "metadata": {},
   "outputs": [],
   "source": [
    "preds, std = gp.predict(test_inputs, return_std=True)"
   ]
  },
  {
   "cell_type": "code",
   "execution_count": 12,
   "id": "9c8f9f6d",
   "metadata": {},
   "outputs": [
    {
     "data": {
      "text/plain": [
       "array([3.09009433e+01, 1.64494475e+01, 2.22467978e+01, 1.76370191e+01,\n",
       "       2.81652118e+01, 8.99469876e-17, 1.22876608e-16, 8.09399962e+01,\n",
       "       3.17682504e+01, 1.05857552e-17, 5.12255057e+01, 4.24916749e+01,\n",
       "       2.58284510e-16, 3.79902657e+00, 2.92874469e+01, 1.22463960e+01,\n",
       "       5.74645495e+01, 1.72578285e+01, 4.27974423e+01, 3.75160614e+01,\n",
       "       9.59889068e+01, 4.74132764e+01, 1.11297241e+01, 1.74855216e+01,\n",
       "       6.11409072e-01, 4.52681220e+01, 9.44493204e-01, 1.12016747e+01,\n",
       "       3.37372960e+01, 3.66850020e+00, 6.25295171e+00, 2.44469647e+01,\n",
       "       5.28445745e-17, 2.23444017e+01, 7.45967379e+01, 3.15332129e+01,\n",
       "       2.67760505e+01, 5.16534146e+01, 3.39881375e+01, 2.34318174e+01,\n",
       "       2.14261022e-01, 4.35996190e+01, 3.41619399e+01, 1.10524688e+01,\n",
       "       8.21238660e+01, 2.95885915e+01])"
      ]
     },
     "execution_count": 12,
     "metadata": {},
     "output_type": "execute_result"
    }
   ],
   "source": [
    "preds"
   ]
  },
  {
   "cell_type": "code",
   "execution_count": 13,
   "id": "0cd7b2d7",
   "metadata": {},
   "outputs": [
    {
     "data": {
      "text/plain": [
       "array([0.73431055, 0.83921982, 0.65818329, 0.73149279, 0.59564849,\n",
       "       0.95184281, 0.99361142, 0.50877611, 0.36202123, 0.70351641,\n",
       "       0.73944579, 0.60923406, 0.99993349, 0.63916533, 0.70834291,\n",
       "       0.7291476 , 0.49306185, 0.46168213, 0.36322248, 0.86921056,\n",
       "       0.68634572, 0.57765132, 0.78277533, 0.87563531, 0.59115717,\n",
       "       0.55123399, 0.52521268, 0.58288375, 0.80462297, 0.8470822 ,\n",
       "       0.80372201, 0.97353413, 0.85388198, 0.74841599, 0.79534585,\n",
       "       0.28437333, 0.98875822, 0.86420521, 0.3498595 , 0.75198841,\n",
       "       0.93715551, 0.76098489, 0.78969396, 0.61536329, 0.79985044,\n",
       "       0.73040833])"
      ]
     },
     "execution_count": 13,
     "metadata": {},
     "output_type": "execute_result"
    }
   ],
   "source": [
    "std"
   ]
  },
  {
   "cell_type": "code",
   "execution_count": 14,
   "id": "fc574498",
   "metadata": {},
   "outputs": [],
   "source": [
    "scaled_std = scale_stds(std, df)"
   ]
  },
  {
   "cell_type": "code",
   "execution_count": 15,
   "id": "9b555a6a",
   "metadata": {},
   "outputs": [
    {
     "data": {
      "text/plain": [
       "array([51.2594705 , 54.17267283, 49.1455093 , 51.18122472, 47.40899423,\n",
       "       57.30007597, 58.45993941, 44.99665445, 40.9214504 , 50.40435488,\n",
       "       51.40206981, 47.78624905, 58.6354955 , 48.61740388, 50.53838072,\n",
       "       51.11610181, 44.56028847, 43.68891208, 40.95480765, 55.00547933,\n",
       "       49.92754579, 46.90923477, 52.60527837, 55.18388653, 47.28427596,\n",
       "       46.17565778, 45.4530777 , 47.054533  , 53.21196075, 54.39100177,\n",
       "       53.18694205, 57.90241738, 54.57982335, 51.6511613 , 52.9543464 ,\n",
       "       38.76526284, 58.32517196, 54.86648679, 40.58373404, 51.75036316,\n",
       "       56.89222744, 52.00018452, 52.79740024, 47.95645014, 53.07943343,\n",
       "       51.15111076])"
      ]
     },
     "execution_count": 15,
     "metadata": {},
     "output_type": "execute_result"
    }
   ],
   "source": [
    "scaled_std"
   ]
  },
  {
   "cell_type": "code",
   "execution_count": 16,
   "id": "6bdf495f",
   "metadata": {},
   "outputs": [
    {
     "data": {
      "image/png": "[encoded data removed]",
      "text/plain": [
       "<Figure size 640x480 with 1 Axes>"
      ]
     },
     "metadata": {},
     "output_type": "display_data"
    }
   ],
   "source": [
    "plot_gp(test_labels, preds, scaled_std)"
   ]
  },
  {
   "cell_type": "code",
   "execution_count": 17,
   "id": "54747600",
   "metadata": {},
   "outputs": [
    {
     "data": {
      "text/plain": [
       "15.90102035508691"
      ]
     },
     "execution_count": 17,
     "metadata": {},
     "output_type": "execute_result"
    }
   ],
   "source": [
    "root_mean_squared_error(test_labels, preds)"
   ]
  },
  {
   "cell_type": "code",
   "execution_count": 18,
   "id": "b98f92bc",
   "metadata": {},
   "outputs": [
    {
     "data": {
      "text/plain": [
       "10.460763587678503"
      ]
     },
     "execution_count": 18,
     "metadata": {},
     "output_type": "execute_result"
    }
   ],
   "source": [
    "mean_absolute_error(test_labels, preds)"
   ]
  },
  {
   "cell_type": "code",
   "execution_count": 19,
   "id": "e8f01bd9",
   "metadata": {},
   "outputs": [
    {
     "data": {
      "text/plain": [
       "0.6769613585178806"
      ]
     },
     "execution_count": 19,
     "metadata": {},
     "output_type": "execute_result"
    }
   ],
   "source": [
    "r2_score(test_labels, preds)"
   ]
  },
  {
   "cell_type": "code",
   "execution_count": null,
   "id": "88270ece",
   "metadata": {},
   "outputs": [],
   "source": []
  },
  {
   "cell_type": "code",
   "execution_count": null,
   "id": "90484881",
   "metadata": {},
   "outputs": [],
   "source": []
  },
  {
   "cell_type": "code",
   "execution_count": null,
   "id": "5b19b7ad",
   "metadata": {},
   "outputs": [],
   "source": []
  },
  {
   "cell_type": "code",
   "execution_count": null,
   "id": "174e34a1",
   "metadata": {},
   "outputs": [],
   "source": []
  },
  {
   "cell_type": "code",
   "execution_count": null,
   "id": "07659961",
   "metadata": {},
   "outputs": [],
   "source": []
  },
  {
   "cell_type": "code",
   "execution_count": null,
   "id": "5cd2a6b7",
   "metadata": {},
   "outputs": [],
   "source": []
  },
  {
   "cell_type": "code",
   "execution_count": null,
   "id": "037446ab",
   "metadata": {},
   "outputs": [],
   "source": []
  },
  {
   "cell_type": "code",
   "execution_count": null,
   "id": "5d9e5cf8",
   "metadata": {},
   "outputs": [],
   "source": []
  },
  {
   "cell_type": "code",
   "execution_count": null,
   "id": "fb2c7f8a",
   "metadata": {},
   "outputs": [],
   "source": []
  },
  {
   "cell_type": "code",
   "execution_count": null,
   "id": "58737438",
   "metadata": {},
   "outputs": [],
   "source": []
  }
 ],
 "metadata": {
  "kernelspec": {
   "display_name": "Python 3 (ipykernel)",
   "language": "python",
   "name": "python3"
  },
  "language_info": {
   "codemirror_mode": {
    "name": "ipython",
    "version": 3
   },
   "file_extension": ".py",
   "mimetype": "text/x-python",
   "name": "python",
   "nbconvert_exporter": "python",
   "pygments_lexer": "ipython3",
   "version": "3.7.13"
  }
 },
 "nbformat": 4,
 "nbformat_minor": 5
}
